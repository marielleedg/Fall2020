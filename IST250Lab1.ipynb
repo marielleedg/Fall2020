{
  "nbformat": 4,
  "nbformat_minor": 0,
  "metadata": {
    "colab": {
      "name": "IST250Lab1.ipynb",
      "provenance": [],
      "authorship_tag": "ABX9TyPAhM6moI646lLInDMfN8/l",
      "include_colab_link": true
    },
    "kernelspec": {
      "name": "python3",
      "display_name": "Python 3"
    }
  },
  "cells": [
    {
      "cell_type": "markdown",
      "metadata": {
        "id": "view-in-github",
        "colab_type": "text"
      },
      "source": [
        "<a href=\"https://colab.research.google.com/github/marielleedg/Fall2020/blob/master/IST250Lab1.ipynb\" target=\"_parent\"><img src=\"https://colab.research.google.com/assets/colab-badge.svg\" alt=\"Open In Colab\"/></a>"
      ]
    },
    {
      "cell_type": "markdown",
      "metadata": {
        "id": "urmI6R5kQNnp",
        "colab_type": "text"
      },
      "source": [
        "# Do you like using Jupyter notebooks?"
      ]
    },
    {
      "cell_type": "markdown",
      "metadata": {
        "id": "lIwGNJ8JQVLh",
        "colab_type": "text"
      },
      "source": [
        "### Yes, I like using Jupyter notebooks so far. It is a different source than I am used to, as I took an intro HTML/CSS course in high school. I forget what source was used in that course. "
      ]
    },
    {
      "cell_type": "markdown",
      "metadata": {
        "id": "UGLLFc_XQkBO",
        "colab_type": "text"
      },
      "source": [
        "# What do you want to learn more about in Jupyter notebooks?"
      ]
    },
    {
      "cell_type": "markdown",
      "metadata": {
        "id": "-XYna0QiRFwe",
        "colab_type": "text"
      },
      "source": [
        "### I love designing webpages, and I look forward to a refresher on HTML/CSS. I have never used Javascript before, so I am looking forward to that as well. It is so fun to see the finished product when the webpage is run and the text works perfectly. "
      ]
    },
    {
      "cell_type": "markdown",
      "metadata": {
        "id": "6E_27Vu_Rjm3",
        "colab_type": "text"
      },
      "source": [
        "Photo![Bailey](https://raw.githubusercontent.com/marielleedg/PracticeWeek1/master/images/IMG_0026.JPG)"
      ]
    }
  ]
}